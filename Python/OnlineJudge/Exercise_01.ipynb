{
 "cells": [
  {
   "cell_type": "markdown",
   "id": "92fb9ff8",
   "metadata": {},
   "source": [
    "# 01-01"
   ]
  },
  {
   "cell_type": "code",
   "execution_count": 13,
   "id": "71075cef",
   "metadata": {},
   "outputs": [
    {
     "name": "stdout",
     "output_type": "stream",
     "text": [
      "Enter N,M : 1 100\n",
      "Sum from 1 to 100 : 5050\n"
     ]
    }
   ],
   "source": [
    "def sumNum (N,M) :\n",
    "    s = 0\n",
    "    for i in range(N,M+1) :\n",
    "        s += i\n",
    "    return s\n",
    "\n",
    "N,M = map(int, input(\"Enter N,M : \").split())\n",
    "\n",
    "print(f\"Sum from {N} to {M} : {sumNum(N,M)}\")\n",
    "        \n",
    "        \n",
    "        "
   ]
  },
  {
   "cell_type": "code",
   "execution_count": 14,
   "id": "10f134ed",
   "metadata": {},
   "outputs": [
    {
     "name": "stdout",
     "output_type": "stream",
     "text": [
      "Enter N,M : 1 100\n",
      "Sum from 1 to 100 : 5050\n"
     ]
    }
   ],
   "source": [
    "def sumNum (N,M) :\n",
    "    s = (M * (M + 1) // 2) - ((N - 1) * N // 2)\n",
    "    return s\n",
    "\n",
    "N,M = map(int, input(\"Enter N,M : \").split())\n",
    "\n",
    "print(f\"Sum from {N} to {M} : {sumNum(N,M)}\")"
   ]
  },
  {
   "cell_type": "code",
   "execution_count": 55,
   "id": "00080973",
   "metadata": {},
   "outputs": [
    {
     "name": "stdout",
     "output_type": "stream",
     "text": [
      "1 100\n",
      "5050\n"
     ]
    }
   ],
   "source": [
    "def sumNum (N,M) :\n",
    "    s = (( M - N +1 ) * ( N + M )) // 2\n",
    "    return s \n",
    "\n",
    "N,M = map(int, input().split())\n",
    "print(sumNum(N,M))"
   ]
  },
  {
   "cell_type": "markdown",
   "id": "8be4ab59",
   "metadata": {},
   "source": [
    "# 01-02"
   ]
  },
  {
   "cell_type": "code",
   "execution_count": 46,
   "id": "ab578eb1",
   "metadata": {},
   "outputs": [
    {
     "name": "stdout",
     "output_type": "stream",
     "text": [
      "1987 123 4567 89\n",
      "141 16\n"
     ]
    }
   ],
   "source": [
    "import random as rd\n",
    "\n",
    "def FindMin (SEED,MIN,MAX,N) :\n",
    "    rd.seed(SEED)\n",
    "    lst = rd.sample(range(MIN,MAX),N)\n",
    "    smallest = min(lst)\n",
    "    \n",
    "    return smallest,lst.index(smallest)\n",
    "\n",
    "SEED,MIN,MAX,N = map(int,input().split())\n",
    "smallest,smallest_index = FindMin(SEED,MIN,MAX,N)\n",
    "print(smallest,smallest_index)"
   ]
  },
  {
   "cell_type": "markdown",
   "id": "56449cfa",
   "metadata": {},
   "source": [
    "# 01-03"
   ]
  },
  {
   "cell_type": "code",
   "execution_count": 67,
   "id": "6d6d5ca7",
   "metadata": {},
   "outputs": [
    {
     "name": "stdout",
     "output_type": "stream",
     "text": [
      "1234567890\n",
      "3211610688\n"
     ]
    }
   ],
   "source": [
    "def sumDivisor(N) :\n",
    "    s = 0\n",
    "    sqrt = int(N ** 0.5)\n",
    "    \n",
    "    for i in range (1, sqrt+ 1):\n",
    "        if N % i == 0:\n",
    "            s += i\n",
    "            s += N // i\n",
    "            \n",
    "    return s\n",
    "\n",
    "N = int(input())\n",
    "print(sumDivisor(N))"
   ]
  },
  {
   "cell_type": "code",
   "execution_count": 108,
   "id": "092503c7",
   "metadata": {},
   "outputs": [
    {
     "name": "stdout",
     "output_type": "stream",
     "text": [
      "211224\n",
      "1 2 3 4 6 8 12 13 24 26 39 52 78 104 156 312\n",
      "211224 105612 70408 52806 35204 26403 17602 16248 8801 8124 5416 4062 2708 2031 1354 677\n"
     ]
    }
   ],
   "source": [
    "def sumDivisor(N) :\n",
    "    s = 0\n",
    "    sqrt = int(N ** 0.5)\n",
    "    lst1 = []\n",
    "    lst2=[]\n",
    "    \n",
    "    for i in range (1, sqrt+ 1):\n",
    "        if N % i == 0:\n",
    "            lst1.append(i)\n",
    "            lst2.append(N//i)\n",
    "            \n",
    "    return lst1,lst2\n",
    "\n",
    "N = int(input())\n",
    "\n",
    "lst1,lst2 = sumDivisor(N)\n",
    "print(*lst1)\n",
    "print(*lst2)"
   ]
  },
  {
   "cell_type": "markdown",
   "id": "da5d2b35",
   "metadata": {},
   "source": [
    "# 01-04"
   ]
  },
  {
   "cell_type": "code",
   "execution_count": 9,
   "id": "6bdf08bf",
   "metadata": {},
   "outputs": [
    {
     "name": "stdout",
     "output_type": "stream",
     "text": [
      "2147483647 4294967295\n",
      "4294967291 4294967279 4294967231 4294967197 4294967189\n"
     ]
    }
   ],
   "source": [
    "def Is_prime(N):\n",
    "    if N <= 1:\n",
    "        return False\n",
    "    sqrtn = int(N ** 0.5)\n",
    "    \n",
    "    for i in range(2, sqrtn + 1):\n",
    "        if N % i == 0:\n",
    "            return False\n",
    "    return True\n",
    "\n",
    "\n",
    "def findPrimeNum(N, M):\n",
    "    prime = []\n",
    "    for i in range(M,N -1, -1):\n",
    "        if Is_prime(i):\n",
    "            prime.append(i)\n",
    "        if len(prime) == 5:\n",
    "            break\n",
    "    return prime\n",
    "N, M = map(int, input().split())\n",
    "print(*findPrimeNum(N,M))"
   ]
  },
  {
   "cell_type": "markdown",
   "id": "45ebedf3",
   "metadata": {},
   "source": [
    "# 01-05"
   ]
  },
  {
   "cell_type": "code",
   "execution_count": 45,
   "id": "57559c6e",
   "metadata": {},
   "outputs": [
    {
     "name": "stdout",
     "output_type": "stream",
     "text": [
      "5\n",
      "1 \n",
      "3 5 \n",
      "7 9 11 \n",
      "13 15 17 19 \n",
      "21 23 25 27 29 \n",
      "225\n"
     ]
    }
   ],
   "source": [
    "# print pyramid\n",
    "n = int(input())\n",
    "s = 1\n",
    "a = 0\n",
    "for row in range(1,n +1) :\n",
    "    for i in range(1,row + 1) : \n",
    "        print(s,end=\" \")\n",
    "        a += s\n",
    "        s += 2\n",
    "    print()\n",
    "print(a)"
   ]
  },
  {
   "cell_type": "code",
   "execution_count": 36,
   "id": "e8c03a4d",
   "metadata": {},
   "outputs": [
    {
     "name": "stdout",
     "output_type": "stream",
     "text": [
      "1234567\n",
      "580763573142020329536784\n"
     ]
    }
   ],
   "source": [
    "# sum pyradmid by enter height\n",
    "def sumoddNum(n) :\n",
    "    s = 0\n",
    "    for i in range(1,n+1) :\n",
    "        s += (i**3)\n",
    "    return s\n",
    "n = int(input())\n",
    "print(sumoddNum(n))"
   ]
  },
  {
   "cell_type": "markdown",
   "id": "27767fee",
   "metadata": {},
   "source": [
    "# 01-06"
   ]
  },
  {
   "cell_type": "code",
   "execution_count": 30,
   "id": "a4f8bee0",
   "metadata": {},
   "outputs": [
    {
     "name": "stdout",
     "output_type": "stream",
     "text": [
      "Sum of divisors: 42\n"
     ]
    }
   ],
   "source": [
    "def findDivisors(n) :\n",
    "    s = 0\n",
    "    sqrtn = int(n ** 0.5) + 1\n",
    "    for i in range(1,  sqrtn) :\n",
    "        if n % i == 0 :\n",
    "            s += i\n",
    "            if i != n//i :\n",
    "                s += n//i\n",
    "    return s\n",
    "            \n",
    "n = 20\n",
    "print(\"Sum of divisors:\",findDivisors(n))"
   ]
  },
  {
   "cell_type": "markdown",
   "id": "f07196bc",
   "metadata": {},
   "source": [
    "# 01-07"
   ]
  },
  {
   "cell_type": "code",
   "execution_count": 41,
   "id": "62afa62a",
   "metadata": {
    "scrolled": true
   },
   "outputs": [
    {
     "name": "stdout",
     "output_type": "stream",
     "text": [
      "1 15 2\n",
      "41\n",
      "3\n"
     ]
    }
   ],
   "source": [
    "def Is_prime(N):\n",
    "    if N <= 1:\n",
    "        return False\n",
    "    \n",
    "    for i in range(2, int(N ** 0.5) + 1):\n",
    "        if N % i == 0:\n",
    "            return False\n",
    "    return True\n",
    "\n",
    "def findPrimeNum(N,M,K):\n",
    "    prime = []\n",
    "    for i in range(N,M + 1):\n",
    "        if Is_prime(i):\n",
    "            prime.append(i)\n",
    "            \n",
    "    if len(prime) < K:\n",
    "        return -1, -1\n",
    "    \n",
    "    sumPrime = sum(prime)\n",
    "    K_prime = prime[K - 1]\n",
    "  \n",
    "    return sumPrime,K_prime\n",
    "\n",
    "N, M,K = map(int, input().split())\n",
    "sumPrime,K_prime = findPrimeNum(N,M,K)\n",
    "\n",
    "print(sumPrime)\n",
    "print(K_prime)\n"
   ]
  },
  {
   "cell_type": "markdown",
   "id": "09d76a4e",
   "metadata": {},
   "source": [
    "# 01-08"
   ]
  },
  {
   "cell_type": "code",
   "execution_count": 94,
   "id": "0c7cf4f1",
   "metadata": {},
   "outputs": [
    {
     "name": "stdout",
     "output_type": "stream",
     "text": [
      "10\n",
      "3 5\n",
      "5 7\n",
      "2\n"
     ]
    }
   ],
   "source": [
    "def Is_prime(N):\n",
    "    if N <= 1:\n",
    "        return False\n",
    "    \n",
    "    for i in range(2, int(N ** 0.5) + 1):\n",
    "        if N % i == 0:\n",
    "            return False\n",
    "    return True\n",
    "\n",
    "def findPrimeNum(N):\n",
    "    count = 0\n",
    "    for i in range(2,n+1):\n",
    "        if Is_prime(i) and Is_prime(i + 2):\n",
    "            print(i,i +2)\n",
    "            count += 1\n",
    "    return count\n",
    "\n",
    "n = int(input())\n",
    "print(findPrimeNum(n))"
   ]
  },
  {
   "cell_type": "markdown",
   "id": "a5ad4308",
   "metadata": {},
   "source": [
    "# 01-09"
   ]
  },
  {
   "cell_type": "code",
   "execution_count": null,
   "id": "96f47cf0",
   "metadata": {},
   "outputs": [],
   "source": [
    "def is_prime(num):\n",
    "    if num <= 1:\n",
    "        return False\n",
    "    for i in range(2, int(num  0.5) + 1):\n",
    "        if num % i == 0:\n",
    "            return False\n",
    "    return True\n",
    "\n",
    "def mersenne_primes(N):\n",
    "    mersenne_primes_list = []\n",
    "    p = 2\n",
    "    while True:\n",
    "        mersenne_number = 2p - 1\n",
    "        if mersenne_number > N:\n",
    "            break\n",
    "        if is_prime(mersenne_number):\n",
    "            mersenne_primes_list.append(mersenne_number)\n",
    "        p += 1\n",
    "    return mersenne_primes_list\n",
    "\n",
    "N = int(input(\"\"))\n",
    "mersenne_primes_list = mersenne_primes(N)\n",
    "for mersenne_prime in mersenne_primes_list:\n",
    "    print(mersenne_prime)"
   ]
  },
  {
   "cell_type": "markdown",
   "id": "71c4f928",
   "metadata": {},
   "source": [
    "# 01-10"
   ]
  },
  {
   "cell_type": "code",
   "execution_count": null,
   "id": "47b28a7f",
   "metadata": {},
   "outputs": [],
   "source": [
    "def Is_prime(N):\n",
    "    if N <= 1:\n",
    "        return False\n",
    "\n",
    "    for i in range(2, int(N ** 0.5) + 1):\n",
    "        if N % i == 0:\n",
    "            return False\n",
    "    return True\n",
    "lst = []\n",
    "for _ in range(5):\n",
    "    lst.append(int(input()))\n",
    "    \n",
    "for i in lst :\n",
    "    if Is_prime(i) :\n",
    "        print(f\"{i} is a prime number.\")\n",
    "    else :\n",
    "        print(f\"{i} is a composite number.\")\n",
    "    print()"
   ]
  },
  {
   "cell_type": "code",
   "execution_count": null,
   "id": "e8eaa93b",
   "metadata": {},
   "outputs": [],
   "source": [
    "def is_prime(num):\n",
    "    if num <= 1:\n",
    "        return False\n",
    "    for i in range(2, int(num ** 0.5) + 1):\n",
    "        if num % i == 0:\n",
    "            return False\n",
    "    return True\n",
    "\n",
    "numbers = []\n",
    "for i in range(5):\n",
    "    numbers.append(int(input()))\n",
    "\n",
    "for n in numbers:\n",
    "    if is_prime(n):\n",
    "        print(f\"{n} is prime number.\")\n",
    "    else:\n",
    "        print(f\"{n} is a composite number.\")\n",
    "    print()"
   ]
  },
  {
   "cell_type": "markdown",
   "id": "610506a2",
   "metadata": {},
   "source": [
    "# 01-11"
   ]
  },
  {
   "cell_type": "code",
   "execution_count": null,
   "id": "b6cd9d30",
   "metadata": {},
   "outputs": [],
   "source": [
    "def is_prime(num):\n",
    "    if num <= 1:\n",
    "        return False\n",
    "    for i in range(2, int(num ** 0.5) + 1):\n",
    "        if num % i == 0:\n",
    "            return False\n",
    "    return True\n",
    "\n",
    "n = int(input(\"\"))\n",
    "\n",
    "if is_prime(n):\n",
    "    print(\"The number is prime.\")\n",
    "else:\n",
    "    for i in range(1, n + 1):\n",
    "        if n % i == 0:\n",
    "            print(i)"
   ]
  },
  {
   "cell_type": "markdown",
   "id": "edf31b86",
   "metadata": {},
   "source": [
    "# 01-12"
   ]
  },
  {
   "cell_type": "code",
   "execution_count": 31,
   "id": "aac876af",
   "metadata": {},
   "outputs": [
    {
     "name": "stdout",
     "output_type": "stream",
     "text": [
      "12\n",
      "Number of operation 1\n",
      "Number of operation 2\n",
      "Number of operation 3\n",
      "Number of operation 4\n",
      "Number of operation 5\n",
      "Number of operation 6\n",
      "Number of operation 7\n",
      "Number of operation 8\n",
      "Number of operation 9\n",
      "Number of operation 10\n",
      "Number of operation 11\n",
      "Number of operation 12\n"
     ]
    }
   ],
   "source": [
    "N = int(input()) \n",
    "for i in range(1,N+1) : \n",
    "    print(f'Number of operations {i}')"
   ]
  },
  {
   "cell_type": "markdown",
   "id": "cf546fd7",
   "metadata": {},
   "source": [
    "# 01-13"
   ]
  },
  {
   "cell_type": "code",
   "execution_count": 4,
   "id": "3e7ac89f",
   "metadata": {},
   "outputs": [
    {
     "name": "stdout",
     "output_type": "stream",
     "text": [
      "12 24\n",
      "13\n",
      "17\n",
      "19\n",
      "23\n"
     ]
    }
   ],
   "source": [
    "def Is_prime(N):\n",
    "    if N <= 1:\n",
    "        return False\n",
    "    \n",
    "    for i in range(2, int(N ** 0.5) + 1):\n",
    "        if N % i == 0:\n",
    "            return False\n",
    "    return True\n",
    "\n",
    "def findPrimeNum(M,N):\n",
    "    prime = []\n",
    "    for i in range(M,N + 1):\n",
    "        if Is_prime(i):\n",
    "            prime.append(i)\n",
    "  \n",
    "    return prime\n",
    "M,N = map(int, input().split())\n",
    "print(*findPrimeNum(M,N),sep = '\\n')"
   ]
  },
  {
   "cell_type": "markdown",
   "id": "5246d97b",
   "metadata": {},
   "source": [
    "# 01-14"
   ]
  },
  {
   "cell_type": "code",
   "execution_count": 39,
   "id": "56194ca5",
   "metadata": {},
   "outputs": [
    {
     "name": "stdout",
     "output_type": "stream",
     "text": [
      "2 3 5 7 11 13 17 19 23 29 31 37 41 43 47 53 59 61 67 71 73 79 83 89 97 101 103 107 109 113 127 131 137 139 149 151 157 163 167 173 179 181 191 193 197 199 211 223 227 229 233 239 241 251 257 263 269 271 277 281 283 293 307 311 313 317 331 337 347 349 353 359 367 373 379 383 389 397 401 409 419 421 431 433 439 443 449 457 461 463 467 479 487 491 499 503 509 521 523 541 547 557 563 569 571 577 587 593 599 601 607 613 617 619 631 641 643 647 653 659 661 673 677 683 691 701 709 719 727 733 739 743 751 757 761 769 773 787 797 809 811 821 823 827 829 839 853 857 859 863 877 881 883 887 907 911 919 929 937 941 947 953 967 971 977 983 991 997 \n",
      " 168\n"
     ]
    }
   ],
   "source": [
    "def Is_prime(N):\n",
    "    if N <= 1:\n",
    "        return False\n",
    "    \n",
    "    for i in range(2, int(N ** 0.5) + 1):\n",
    "        if N % i == 0:\n",
    "            return False\n",
    "    return True\n",
    "\n",
    "prime = []\n",
    "for i in range(1,1001) :\n",
    "    if Is_prime(i) :\n",
    "        prime.append(i)\n",
    "        \n",
    "print(*prime,'\\n',len(prime))"
   ]
  },
  {
   "cell_type": "code",
   "execution_count": 57,
   "id": "90e4d94e",
   "metadata": {},
   "outputs": [
    {
     "name": "stdout",
     "output_type": "stream",
     "text": [
      "1 1000\n",
      "25\n"
     ]
    }
   ],
   "source": []
  },
  {
   "cell_type": "code",
   "execution_count": 58,
   "id": "cb8142c7",
   "metadata": {},
   "outputs": [
    {
     "name": "stdout",
     "output_type": "stream",
     "text": [
      "1 1000\n",
      "25\n"
     ]
    }
   ],
   "source": [
    "import math\n",
    "\n",
    "def Is_prime(N):\n",
    "    if N <= 1:\n",
    "        return False\n",
    "    \n",
    "    for i in range(2, int(N ** 0.5) + 1):\n",
    "        if N % i == 0:\n",
    "            return False\n",
    "    return True\n",
    "\n",
    "n,m = map(int,input().split())\n",
    "\n",
    "count_x = 0\n",
    "count_y = 0\n",
    "\n",
    "for i in range(1,int(m ** 0.5) + 1) :\n",
    "    if Is_prime(i):\n",
    "        if i**2 < m:\n",
    "            count_x += (int(math.log(m,i)) - 1)\n",
    "for i in range(1,int(n ** 0.5) + 1):\n",
    "    if Is_prime(i):\n",
    "        if i ** 2 < n:\n",
    "            count_y += (int(math.log(n,i)) - 1)\n",
    "            \n",
    "print(count_x - count_y)"
   ]
  },
  {
   "cell_type": "code",
   "execution_count": null,
   "id": "54c6fe67",
   "metadata": {},
   "outputs": [],
   "source": []
  }
 ],
 "metadata": {
  "kernelspec": {
   "display_name": "Python 3 (ipykernel)",
   "language": "python",
   "name": "python3"
  },
  "language_info": {
   "codemirror_mode": {
    "name": "ipython",
    "version": 3
   },
   "file_extension": ".py",
   "mimetype": "text/x-python",
   "name": "python",
   "nbconvert_exporter": "python",
   "pygments_lexer": "ipython3",
   "version": "3.11.3"
  }
 },
 "nbformat": 4,
 "nbformat_minor": 5
}
