{
 "cells": [
  {
   "cell_type": "markdown",
   "id": "b5a1686f",
   "metadata": {},
   "source": [
    "# 03_01"
   ]
  },
  {
   "cell_type": "code",
   "execution_count": 36,
   "id": "0396d734",
   "metadata": {},
   "outputs": [
    {
     "name": "stdout",
     "output_type": "stream",
     "text": [
      "6 AaBbCc\n",
      "ABC  cba\n"
     ]
    }
   ],
   "source": [
    "def sortCharacter(word) :\n",
    "    upper_case = []\n",
    "    lower_case = []\n",
    "\n",
    "    for i in word:\n",
    "        if i.isupper() :\n",
    "            upper_case.append(i)\n",
    "        elif i.islower():\n",
    "            lower_case.append(i)\n",
    "            \n",
    "    upper_case.sort()\n",
    "    lower_case.sort(reverse=True)\n",
    "    print(\"\".join(upper_case)+ \"  \" + \"\".join(lower_case))\n",
    "\n",
    "word = input()\n",
    "sortCharacter(word)"
   ]
  },
  {
   "cell_type": "markdown",
   "id": "f834b7e7",
   "metadata": {},
   "source": [
    "# 03_02"
   ]
  },
  {
   "cell_type": "code",
   "execution_count": 4,
   "id": "cb6b9d09",
   "metadata": {},
   "outputs": [
    {
     "name": "stdout",
     "output_type": "stream",
     "text": [
      "['q', 'yus', 'i', 'tya', 'i']\n",
      "['i', 'i', 'q', 'tya', 'yus']\n"
     ]
    }
   ],
   "source": [
    "# generate word\n",
    "\n",
    "import random\n",
    "from string import ascii_lowercase\n",
    "\n",
    "def generate(SEED, N):\n",
    "    random.seed(SEED)\n",
    "    S=[]\n",
    "    for _ in range(N):\n",
    "        length=random.randint(1, N-1)\n",
    "        s=random.sample(ascii_lowercase, length)\n",
    "        S.append(\"\".join(s))\n",
    "    return S\n",
    "\n",
    "S=generate(2002,5)\n",
    "print(S)\n",
    "print(sorted(S))\n"
   ]
  },
  {
   "cell_type": "code",
   "execution_count": 53,
   "id": "7ad546c6",
   "metadata": {},
   "outputs": [
    {
     "name": "stdout",
     "output_type": "stream",
     "text": [
      "['kiwi', 'pear', 'apple', 'mango', 'banana', 'orange']\n"
     ]
    }
   ],
   "source": [
    "# sort by shortest len\n",
    "s = ['banana','kiwi','apple','pear','mango','orange']\n",
    "\n",
    "s.sort(key=lambda x: (len(x), x))\n",
    "print(s)"
   ]
  },
  {
   "cell_type": "code",
   "execution_count": 137,
   "id": "b4b89ffb",
   "metadata": {},
   "outputs": [
    {
     "name": "stdout",
     "output_type": "stream",
     "text": [
      "2022 10 5\n",
      "['jorzsbqnk', 'y', 'juyorqs', 'x', 'byljm', 'ni', 'fabhvpnc', 'vd', 'muoibrknw', 'n']\n",
      "['n', 'x', 'y', 'ni', 'vd', 'byljm', 'juyorqs', 'fabhvpnc', 'jorzsbqnk', 'muoibrknw']\n",
      "byljm\n"
     ]
    }
   ],
   "source": [
    "# find kth word\n",
    "import random\n",
    "from string import ascii_lowercase\n",
    "\n",
    "def generate(SEED, N):\n",
    "    random.seed(SEED)\n",
    "    S=[]\n",
    "    for _ in range(N):\n",
    "        length=random.randint(1, N-1)\n",
    "        s=random.sample(ascii_lowercase, length)\n",
    "        S.append(\"\".join(s))\n",
    "    return S\n",
    "\n",
    "def find_Kth_Word(SEED,N,K) :\n",
    "    S=generate(SEED,N)\n",
    "    print(S)\n",
    "    S.sort(key=lambda x: (len(x), x))\n",
    "    print(S)\n",
    "    return S[K]\n",
    "\n",
    "SEED,N,K = map(int,input().split())\n",
    "print(find_Kth_Word(SEED,N,K))\n"
   ]
  },
  {
   "cell_type": "markdown",
   "id": "959a920e",
   "metadata": {},
   "source": [
    "# 03_03"
   ]
  },
  {
   "cell_type": "code",
   "execution_count": 17,
   "id": "a2a1dd24",
   "metadata": {},
   "outputs": [
    {
     "name": "stdout",
     "output_type": "stream",
     "text": [
      "2022 10 100 10 5\n",
      "49\n"
     ]
    }
   ],
   "source": [
    "import random\n",
    "def generate(SEED, MIN, MAX, N):\n",
    "    random.seed(SEED)\n",
    "    return random.sample(range(MIN, MAX), N)\n",
    "\n",
    "def median(s) :\n",
    "    s.sort()\n",
    "    lst = []\n",
    "    while len(s) > 0 :\n",
    "        mid = (len(s) -1)//2\n",
    "        lst.append(s[mid])\n",
    "        s.remove(s[mid])\n",
    "    return lst\n",
    "\n",
    "SEED, MIN, MAX, N, K = map(int,input().split())\n",
    "S = generate(SEED, MIN, MAX, N)\n",
    "deleted_median = median(S)\n",
    "print(deleted_median[K - 1])\n",
    "\n"
   ]
  },
  {
   "cell_type": "markdown",
   "id": "b419a622",
   "metadata": {},
   "source": [
    "# 03_04"
   ]
  },
  {
   "cell_type": "code",
   "execution_count": 22,
   "id": "28429f33",
   "metadata": {},
   "outputs": [
    {
     "name": "stdout",
     "output_type": "stream",
     "text": [
      "8\n",
      "listen\n",
      "santa\n",
      "ant\n",
      "satan\n",
      "silent\n",
      "tan\n",
      "can\n",
      "anats\n",
      "['listen', 'santa', 'ant', 'can']\n",
      "['aanst', 'eilnst', 'ant', 'aanst']\n"
     ]
    }
   ],
   "source": [
    "def solve(n) :\n",
    "    anagrams = set([])\n",
    "    lst = []\n",
    "    word = []\n",
    "    for _ in range(n) :\n",
    "        word1 = input()\n",
    "        word2 = \"\".join(sorted(word1))\n",
    "        if word2 not in anagrams :\n",
    "            lst.append(word1)\n",
    "            anagrams.add(word2)\n",
    "        else :\n",
    "            word.append(word2)\n",
    "    return lst,word\n",
    "\n",
    "n = int(input())\n",
    "lst,word = solve(n)\n",
    "print(lst)\n",
    "print(word)"
   ]
  },
  {
   "cell_type": "code",
   "execution_count": 28,
   "id": "952f2b71",
   "metadata": {},
   "outputs": [
    {
     "name": "stdout",
     "output_type": "stream",
     "text": [
      "8  listen  santa  ant  satan  silent  tan  can  anats\n",
      "santa 3 can 1 ant 2 listen 2 "
     ]
    }
   ],
   "source": [
    "# Function to sort a word's characters alphabetically\n",
    "def sorted_word(word):\n",
    "    return ''.join(sorted(word))\n",
    "\n",
    "# Input the number of words, N, and the words themselves\n",
    "N, *words = input().split()\n",
    "N = int(N)\n",
    "words = words[:N]\n",
    "\n",
    "# Create a dictionary to store anagrams\n",
    "anagram_count = {}\n",
    "\n",
    "# Iterate through the words to find anagrams\n",
    "for word in words:\n",
    "    sorted_word_str = sorted_word(word)\n",
    "    if sorted_word_str in anagram_count:\n",
    "        anagram_count[sorted_word_str].append(word)\n",
    "    else:\n",
    "        anagram_count[sorted_word_str] = [word]\n",
    "\n",
    "# Sort the dictionary keys alphabetically\n",
    "sorted_anagrams = sorted(anagram_count.keys())\n",
    "\n",
    "# Output the first word and the count of anagram words for each group\n",
    "for sorted_word_str in sorted_anagrams:\n",
    "    anagram_group = anagram_count[sorted_word_str]\n",
    "    print(anagram_group[0], len(anagram_group), end=' ')\n"
   ]
  },
  {
   "cell_type": "markdown",
   "id": "52a71b87",
   "metadata": {},
   "source": [
    "# 03_05"
   ]
  },
  {
   "cell_type": "code",
   "execution_count": 73,
   "id": "12195ac8",
   "metadata": {},
   "outputs": [
    {
     "name": "stdout",
     "output_type": "stream",
     "text": [
      "7 10\n",
      "50 40 70 10 30 20 60\n",
      "30 40\n"
     ]
    }
   ],
   "source": [
    "# solution\n",
    "\n",
    "def bubblesort(n,s,k):\n",
    "    cnt = 0\n",
    "    for i in range(n -1):\n",
    "        for j in range(n -1 -i):\n",
    "            if s[j] > s[j+1]:\n",
    "                s[j], s[j+1] = s[j+1], s[j] # swap\n",
    "                cnt +=1\n",
    "                if cnt == k :\n",
    "                    return s[j],s[j+1]\n",
    "\n",
    "n , k = map(int,input().split())\n",
    "s = list(map(int, input().split()))\n",
    "result = bubblesort(n,s,k)\n",
    "print(*result)"
   ]
  },
  {
   "cell_type": "markdown",
   "id": "0c1bb4f6",
   "metadata": {},
   "source": [
    "# 03_06"
   ]
  },
  {
   "cell_type": "code",
   "execution_count": 112,
   "id": "966c4d09",
   "metadata": {},
   "outputs": [
    {
     "name": "stdout",
     "output_type": "stream",
     "text": [
      "7 10\n",
      "50 40 70 10 30 20 60\n",
      "50 70\n"
     ]
    }
   ],
   "source": [
    "# insertion sort\n",
    "\n",
    "def insertionsort(n,s):\n",
    "    cnt = 0\n",
    "    for i in range(1, n):\n",
    "        \n",
    "        j, val = i -1, s[i]\n",
    "        cnt +=1\n",
    "        if cnt == k :\n",
    "                return s[j + 1],s[i]\n",
    "        while j >= 0 and s[j] > val:\n",
    "            s[j+1] = s[j]\n",
    "            j -= 1\n",
    "            cnt += 1\n",
    "            if cnt == k :\n",
    "                return s[j + 1],s[i]\n",
    "        s[j + 1] = val\n",
    "        \n",
    "    \n",
    "n , k = map(int,input().split())\n",
    "s = list(map(int, input().split()))\n",
    "result = insertionsort(n,s)\n",
    "print(*result)"
   ]
  },
  {
   "cell_type": "markdown",
   "id": "c06c3a1e",
   "metadata": {},
   "source": [
    "# 03_07"
   ]
  },
  {
   "cell_type": "code",
   "execution_count": 118,
   "id": "32939b55",
   "metadata": {},
   "outputs": [
    {
     "name": "stdout",
     "output_type": "stream",
     "text": [
      "7 4\n",
      "50 40 70 10 30 20 60\n",
      "50\n"
     ]
    }
   ],
   "source": [
    "# selection sort\n",
    "def solve(n,s,k):\n",
    "    cnt = 0\n",
    "    for i in range(n - 1):\n",
    "        minv, minj= s[i], i\n",
    "        for j in range(i +1, n):\n",
    "            if s[j] < minv:\n",
    "                minv, minj = s[j], j\n",
    "        if i != minj:\n",
    "            s[i], s[minj] = s[minj], s[i]\n",
    "            cnt += 1\n",
    "            if cnt == k :\n",
    "                return s[minj]\n",
    "\n",
    "n , k = map(int,input().split())\n",
    "s = list(map(int, input().split()))\n",
    "print(solve(n,s,k))"
   ]
  },
  {
   "cell_type": "markdown",
   "id": "cd838bda",
   "metadata": {},
   "source": [
    "# 03_08"
   ]
  },
  {
   "cell_type": "code",
   "execution_count": 144,
   "id": "4a12ac82",
   "metadata": {},
   "outputs": [
    {
     "name": "stdout",
     "output_type": "stream",
     "text": [
      "1 2 3 4 5 6 7 8 9 10\n",
      "[10, 9, 8, 7, 6, 5, 4, 3, 2, 1]\n"
     ]
    }
   ],
   "source": [
    "def solve(s):\n",
    "    for i in range(len(s) - 1):\n",
    "        minv, minj= s[i], i\n",
    "        for j in range(i +1, len(s)):\n",
    "            if s[j] > minv:\n",
    "                minv, minj = s[j], j\n",
    "        if i != minj:\n",
    "            s[i], s[minj] = s[minj], s[i]\n",
    "    return s\n",
    "    \n",
    "\n",
    "s = input().split()\n",
    "for i in range(len(s)):\n",
    "    s[i] = int(s[i])\n",
    "\n",
    "print(solve(s))"
   ]
  },
  {
   "cell_type": "markdown",
   "id": "2879962f",
   "metadata": {},
   "source": [
    "# 03_09"
   ]
  },
  {
   "cell_type": "code",
   "execution_count": null,
   "id": "19f97388",
   "metadata": {},
   "outputs": [],
   "source": []
  },
  {
   "cell_type": "markdown",
   "id": "05884dc9",
   "metadata": {},
   "source": [
    "# 03_10"
   ]
  },
  {
   "cell_type": "code",
   "execution_count": null,
   "id": "4b6a6ff8",
   "metadata": {},
   "outputs": [],
   "source": []
  },
  {
   "cell_type": "markdown",
   "id": "cdd38ac2",
   "metadata": {},
   "source": [
    "# 03_11"
   ]
  },
  {
   "cell_type": "code",
   "execution_count": null,
   "id": "fba4b366",
   "metadata": {},
   "outputs": [],
   "source": []
  },
  {
   "cell_type": "markdown",
   "id": "bd958cf5",
   "metadata": {},
   "source": [
    "# 03_12"
   ]
  },
  {
   "cell_type": "code",
   "execution_count": null,
   "id": "9224b46b",
   "metadata": {},
   "outputs": [],
   "source": []
  },
  {
   "cell_type": "markdown",
   "id": "6a43c97b",
   "metadata": {},
   "source": [
    "# 02_13"
   ]
  },
  {
   "cell_type": "markdown",
   "id": "9c6e3bb6",
   "metadata": {},
   "source": [
    "# 02_14"
   ]
  },
  {
   "cell_type": "markdown",
   "id": "ae2ed6df",
   "metadata": {},
   "source": [
    "# 03_15"
   ]
  },
  {
   "cell_type": "markdown",
   "id": "a99162b8",
   "metadata": {},
   "source": [
    "# 02_16"
   ]
  },
  {
   "cell_type": "markdown",
   "id": "2f4250f5",
   "metadata": {},
   "source": [
    "# 03_17"
   ]
  },
  {
   "cell_type": "markdown",
   "id": "59735dd1",
   "metadata": {},
   "source": [
    "# 03_18"
   ]
  },
  {
   "cell_type": "markdown",
   "id": "6a63498b",
   "metadata": {},
   "source": [
    "# 02_19"
   ]
  },
  {
   "cell_type": "code",
   "execution_count": null,
   "id": "7abdf086",
   "metadata": {},
   "outputs": [],
   "source": []
  },
  {
   "cell_type": "markdown",
   "id": "b7db5255",
   "metadata": {},
   "source": [
    "# 02_20"
   ]
  },
  {
   "cell_type": "code",
   "execution_count": null,
   "id": "581e09ad",
   "metadata": {},
   "outputs": [],
   "source": []
  },
  {
   "cell_type": "markdown",
   "id": "e6e00057",
   "metadata": {},
   "source": [
    "# 02_21"
   ]
  },
  {
   "cell_type": "markdown",
   "id": "729fbc0e",
   "metadata": {},
   "source": [
    "# 02_22"
   ]
  },
  {
   "cell_type": "markdown",
   "id": "a81b2c1b",
   "metadata": {},
   "source": [
    "# 02_23"
   ]
  },
  {
   "cell_type": "markdown",
   "id": "eb9039f8",
   "metadata": {},
   "source": [
    "# 02_24"
   ]
  },
  {
   "cell_type": "markdown",
   "id": "d51bce67",
   "metadata": {},
   "source": [
    "# 02_25"
   ]
  },
  {
   "cell_type": "markdown",
   "id": "dfe2472b",
   "metadata": {},
   "source": [
    "# 02_26"
   ]
  }
 ],
 "metadata": {
  "kernelspec": {
   "display_name": "Python 3 (ipykernel)",
   "language": "python",
   "name": "python3"
  },
  "language_info": {
   "codemirror_mode": {
    "name": "ipython",
    "version": 3
   },
   "file_extension": ".py",
   "mimetype": "text/x-python",
   "name": "python",
   "nbconvert_exporter": "python",
   "pygments_lexer": "ipython3",
   "version": "3.10.9"
  }
 },
 "nbformat": 4,
 "nbformat_minor": 5
}
