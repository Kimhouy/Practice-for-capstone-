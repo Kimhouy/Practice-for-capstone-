{
 "cells": [
  {
   "attachments": {},
   "cell_type": "markdown",
   "id": "b5a1686f",
   "metadata": {},
   "source": [
    "# 02_01"
   ]
  },
  {
   "cell_type": "code",
   "execution_count": 12,
   "id": "58e58759",
   "metadata": {},
   "outputs": [
    {
     "name": "stdout",
     "output_type": "stream",
     "text": [
      "77 11\n",
      "266711567621704128000\n"
     ]
    }
   ],
   "source": [
    "def perm(n, r):\n",
    "    result = 1\n",
    "    for i in range(r):\n",
    "        result *= (n - i)\n",
    "    return result\n",
    "\n",
    "n,r = map(int,input().split())\n",
    "\n",
    "if n >= r:\n",
    "    result = perm(n, r)\n",
    "    print(result)\n"
   ]
  },
  {
   "cell_type": "code",
   "execution_count": 11,
   "id": "9e8a4549",
   "metadata": {},
   "outputs": [
    {
     "name": "stdout",
     "output_type": "stream",
     "text": [
      "77 11\n",
      "266711567621704128000\n"
     ]
    }
   ],
   "source": [
    "import math\n",
    "def perm(a , b):\n",
    "    result = math.factorial(a) // math.factorial(a-b)\n",
    "    return result\n",
    "a , b = map(int , input().split())\n",
    "print(perm(a,b))"
   ]
  },
  {
   "attachments": {},
   "cell_type": "markdown",
   "id": "f834b7e7",
   "metadata": {},
   "source": [
    "# 02_02"
   ]
  },
  {
   "cell_type": "code",
   "execution_count": 14,
   "id": "930e22f9",
   "metadata": {},
   "outputs": [
    {
     "name": "stdout",
     "output_type": "stream",
     "text": [
      "14549535\n"
     ]
    }
   ],
   "source": [
    "import math\n",
    "\n",
    "def lcm(n,m) :\n",
    "    return (n * m) // math.gcd(n,m)\n",
    "\n",
    "X = [1, 3, 5, 7, 9, 11, 13, 15, 17, 19]     \n",
    "result = X[0]\n",
    "\n",
    "for i in range(len(X)) :\n",
    "    result = lcm(result , X[i])\n",
    "    \n",
    "print(result)"
   ]
  },
  {
   "attachments": {},
   "cell_type": "markdown",
   "id": "959a920e",
   "metadata": {},
   "source": [
    "# 02_03"
   ]
  },
  {
   "cell_type": "code",
   "execution_count": 6,
   "id": "338cc0f2",
   "metadata": {},
   "outputs": [
    {
     "name": "stdout",
     "output_type": "stream",
     "text": [
      "123 321\n",
      "131\n",
      "313\n"
     ]
    }
   ],
   "source": [
    "def collatz(n):\n",
    "    length = 1\n",
    "    while n > 1:\n",
    "        if n % 2 == 0:\n",
    "            n //= 2\n",
    "        else:\n",
    "            n = 3 * n + 1\n",
    "        length += 1\n",
    "    return length\n",
    "\n",
    "n,m = map(int,input().split())\n",
    "\n",
    "max_len = 0\n",
    "max_num = 0\n",
    "\n",
    "for i in range(n,m + 1):\n",
    "    col_len = collatz(i)\n",
    "    if  col_len > max_len :\n",
    "        max_len = col_len\n",
    "        max_num = i\n",
    "    elif col_len == max_len : \n",
    "        max_num = max(max_num,i)\n",
    "        \n",
    "print(max_num)\n",
    "print(max_len)"
   ]
  },
  {
   "attachments": {},
   "cell_type": "markdown",
   "id": "b419a622",
   "metadata": {},
   "source": [
    "# 02_04"
   ]
  },
  {
   "cell_type": "code",
   "execution_count": null,
   "id": "28429f33",
   "metadata": {},
   "outputs": [],
   "source": [
    "def solve(n):\n",
    "    if n == 1:\n",
    "        return 1\n",
    "    elif n == 2:\n",
    "        return 2\n",
    "    elif n == 3:\n",
    "        return 3\n",
    "\n",
    "    a, b, c = 1, 2, 3\n",
    "    for i in range(4, n + 1):\n",
    "        a, b, c = b, c, (a + b + c) % (2**32 - 1)\n",
    "    return c\n",
    "\n",
    "N = int(input())\n",
    "print(solve(N))"
   ]
  },
  {
   "attachments": {},
   "cell_type": "markdown",
   "id": "fb6fd06a",
   "metadata": {},
   "source": []
  },
  {
   "attachments": {},
   "cell_type": "markdown",
   "id": "52a71b87",
   "metadata": {},
   "source": [
    "# 02_05"
   ]
  },
  {
   "cell_type": "code",
   "execution_count": 9,
   "id": "d833b587",
   "metadata": {},
   "outputs": [
    {
     "name": "stdout",
     "output_type": "stream",
     "text": [
      "3 3\n",
      "61\n",
      "2432\n"
     ]
    }
   ],
   "source": [
    "cnt = 0\n",
    "\n",
    "def ackermann(m, n):\n",
    "    \n",
    "    global cnt \n",
    "    cnt += 1\n",
    "    if m == 0:\n",
    "        return n + 1\n",
    "    elif m > 0 and n == 0:\n",
    "        return ackermann(m - 1, 1)\n",
    "    elif m > 0 and n > 0:\n",
    "        return ackermann(m - 1, ackermann(m, n - 1))\n",
    "\n",
    "n , m = map(int,input().split())\n",
    "\n",
    "result = ackermann(m, n)\n",
    "print(result)\n",
    "print(cnt)\n"
   ]
  },
  {
   "attachments": {},
   "cell_type": "markdown",
   "id": "0c1bb4f6",
   "metadata": {},
   "source": [
    "# 02_06"
   ]
  },
  {
   "cell_type": "code",
   "execution_count": 32,
   "id": "f6eb184e",
   "metadata": {},
   "outputs": [
    {
     "name": "stdout",
     "output_type": "stream",
     "text": [
      "5\n",
      "1*2*3*4*5\n"
     ]
    }
   ],
   "source": [
    "def factorial(n) :\n",
    "    fac = ''\n",
    "    for i in range(1,n + 1) :\n",
    "        if i == 1:\n",
    "            fac += '1'\n",
    "        else :\n",
    "            fac += f\"*{i}\"\n",
    "        \n",
    "    return fac\n",
    "\n",
    "n = int(input())\n",
    "print(factorial(n))"
   ]
  },
  {
   "attachments": {},
   "cell_type": "markdown",
   "id": "c06c3a1e",
   "metadata": {},
   "source": [
    "# 02_07"
   ]
  },
  {
   "cell_type": "code",
   "execution_count": 33,
   "id": "78317686",
   "metadata": {},
   "outputs": [
    {
     "name": "stdout",
     "output_type": "stream",
     "text": [
      "6\n",
      "720\n"
     ]
    }
   ],
   "source": [
    "def factorial(n) :\n",
    "    if n == 0 :\n",
    "        return 1\n",
    "    else :\n",
    "        return n * factorial(n-1)\n",
    "\n",
    "n = int(input())\n",
    "\n",
    "print(factorial(n))"
   ]
  },
  {
   "cell_type": "code",
   "execution_count": 34,
   "id": "248bfdbe",
   "metadata": {},
   "outputs": [
    {
     "name": "stdout",
     "output_type": "stream",
     "text": [
      "6\n",
      "720\n"
     ]
    }
   ],
   "source": [
    "def factorial(n) :\n",
    "    s = 1\n",
    "    for i in range(1,n + 1) :\n",
    "        s *= i\n",
    "    return s\n",
    "\n",
    "n = int(input())\n",
    "print(factorial(n))"
   ]
  },
  {
   "attachments": {},
   "cell_type": "markdown",
   "id": "cd838bda",
   "metadata": {},
   "source": [
    "# 02_08"
   ]
  },
  {
   "cell_type": "code",
   "execution_count": 39,
   "id": "8991a0cd",
   "metadata": {},
   "outputs": [
    {
     "name": "stdout",
     "output_type": "stream",
     "text": [
      "6\n",
      "6!=(1*2*3*4*5*6)=720\n"
     ]
    }
   ],
   "source": [
    "def factorial(n) :\n",
    "    fac = ''\n",
    "    s = 1\n",
    "    for i in range(1,n + 1) :\n",
    "        s *= i\n",
    "        if i == 1:\n",
    "            fac += '1'\n",
    "        else :\n",
    "            fac += f\"*{i}\"\n",
    "        \n",
    "    return fac,s\n",
    "\n",
    "n = int(input())\n",
    "process,result = factorial(n)\n",
    "print(f\"{n}!=({process})={result}\")"
   ]
  },
  {
   "attachments": {},
   "cell_type": "markdown",
   "id": "2879962f",
   "metadata": {},
   "source": [
    "# 02_09"
   ]
  },
  {
   "cell_type": "code",
   "execution_count": 93,
   "id": "d4fc27a5",
   "metadata": {},
   "outputs": [
    {
     "name": "stdout",
     "output_type": "stream",
     "text": [
      "10\n",
      "0\n",
      "3\n",
      "4\n"
     ]
    }
   ],
   "source": [
    "def collatz2(n) : \n",
    "    cnt = 0\n",
    "    while n != 1:\n",
    "        \n",
    "        if n % 2 == 0:\n",
    "            n //= 2\n",
    "            print(cnt)\n",
    "        else:\n",
    "            n = (n + 1) // 2\n",
    "        cnt += 1\n",
    "    return cnt\n",
    "\n",
    "n = int(input())\n",
    "print(collatz2(n))"
   ]
  },
  {
   "attachments": {},
   "cell_type": "markdown",
   "id": "05884dc9",
   "metadata": {},
   "source": [
    "# 02_10"
   ]
  },
  {
   "cell_type": "code",
   "execution_count": 107,
   "id": "e5d4a62a",
   "metadata": {},
   "outputs": [
    {
     "name": "stdout",
     "output_type": "stream",
     "text": [
      "3\n",
      "16\n"
     ]
    }
   ],
   "source": [
    "def Hailstone(n) :\n",
    "    lst = []\n",
    "    while n != 1 :\n",
    "        if n % 2 == 0 :\n",
    "            n //= 2\n",
    "        else :\n",
    "            n = 3*n + 1\n",
    "        lst.append(n)\n",
    "    return lst\n",
    "\n",
    "n = int(input())\n",
    "print(max(Hailstone(n)))"
   ]
  },
  {
   "attachments": {},
   "cell_type": "markdown",
   "id": "cdd38ac2",
   "metadata": {},
   "source": [
    "# 02_11"
   ]
  },
  {
   "cell_type": "code",
   "execution_count": null,
   "id": "fba4b366",
   "metadata": {},
   "outputs": [],
   "source": [
    "Not yet done >.<!!!"
   ]
  },
  {
   "attachments": {},
   "cell_type": "markdown",
   "id": "bd958cf5",
   "metadata": {},
   "source": [
    "# 02_12"
   ]
  },
  {
   "cell_type": "code",
   "execution_count": 105,
   "id": "038b3e28",
   "metadata": {},
   "outputs": [
    {
     "name": "stdout",
     "output_type": "stream",
     "text": [
      "10\n",
      "4\n"
     ]
    }
   ],
   "source": [
    "def magicBox(n) : \n",
    "    coins = [0] *(n + 1)\n",
    "    coins[1] = 1\n",
    "    coins[2] = 1\n",
    "    \n",
    "    for i in range(3, n + 1) :\n",
    "        if i % 2 == 0 :\n",
    "            coins[i] = coins[i//2]\n",
    "        else:\n",
    "            coins[i] = coins[i // 2] + coins[i // 2 + 1]\n",
    "        \n",
    "    return coins\n",
    "\n",
    "n = int(input())\n",
    "print(max(magicBox(n)))"
   ]
  },
  {
   "attachments": {},
   "cell_type": "markdown",
   "id": "6a43c97b",
   "metadata": {},
   "source": [
    "# 02_13"
   ]
  },
  {
   "cell_type": "code",
   "execution_count": 92,
   "id": "bf948de7",
   "metadata": {},
   "outputs": [
    {
     "name": "stdout",
     "output_type": "stream",
     "text": [
      "100\n",
      "5050\n"
     ]
    }
   ],
   "source": [
    "def sumNum(n) :\n",
    "    s = 0\n",
    "    for i in range(1,n + 1) :\n",
    "        s += i\n",
    "    return s\n",
    "\n",
    "n = int(input())\n",
    "print(sumNum(n))"
   ]
  },
  {
   "cell_type": "code",
   "execution_count": null,
   "id": "b94ccefa",
   "metadata": {},
   "outputs": [],
   "source": [
    "- **Solution1**\n",
    "    \n",
    "    ```python\n",
    "    def sumNum(n) :\n",
    "        s = 0\n",
    "        for i in range(1,n + 1) :\n",
    "            s = (n * (n + 1))//2\n",
    "        return s\n",
    "    \n",
    "    n = int(input())\n",
    "    print(sumNum(n))"
   ]
  },
  {
   "attachments": {},
   "cell_type": "markdown",
   "id": "9c6e3bb6",
   "metadata": {},
   "source": [
    "# 02_14"
   ]
  },
  {
   "cell_type": "code",
   "execution_count": null,
   "id": "22739037",
   "metadata": {},
   "outputs": [],
   "source": [
    "def printNum(n) :\n",
    "    if n == 0 :\n",
    "        print(n)\n",
    "    else :\n",
    "        printNum(n-1)\n",
    "        print(n)\n",
    "\n",
    "n = int(input())\n",
    "printNum(n)"
   ]
  },
  {
   "attachments": {},
   "cell_type": "markdown",
   "id": "ae2ed6df",
   "metadata": {},
   "source": [
    "# 02_15"
   ]
  },
  {
   "cell_type": "code",
   "execution_count": null,
   "id": "ed170c8f",
   "metadata": {},
   "outputs": [],
   "source": [
    "def printNum(n) :\n",
    "    for i in range(1,n + 1) :\n",
    "        print(i)\n",
    "        \n",
    "n = int(input())\n",
    "printNum(n)"
   ]
  },
  {
   "attachments": {},
   "cell_type": "markdown",
   "id": "a99162b8",
   "metadata": {},
   "source": [
    "# 02_16"
   ]
  },
  {
   "cell_type": "code",
   "execution_count": 119,
   "id": "16e6f853",
   "metadata": {},
   "outputs": [
    {
     "name": "stdout",
     "output_type": "stream",
     "text": [
      "10\n",
      "10 9 8 7 6 5 4 3 2 1 "
     ]
    }
   ],
   "source": [
    "def printNum(n) :\n",
    "    if n == 1 :\n",
    "        print(n,end=\" \")\n",
    "    else :\n",
    "        print(n,end=\" \")\n",
    "        printNum(n-1)\n",
    "        \n",
    "\n",
    "n = int(input())\n",
    "printNum(n)"
   ]
  },
  {
   "attachments": {},
   "cell_type": "markdown",
   "id": "2f4250f5",
   "metadata": {},
   "source": [
    "# 02_17"
   ]
  },
  {
   "cell_type": "code",
   "execution_count": 24,
   "id": "e02fc8ab",
   "metadata": {},
   "outputs": [
    {
     "name": "stdout",
     "output_type": "stream",
     "text": [
      "20\n",
      "0! =         1          \n",
      "1! =         1          \n",
      "2! =         2          \n",
      "3! =         6          \n",
      "4! =         24         \n",
      "5! =        120         \n",
      "6! =        720         \n",
      "7! =        5040        \n",
      "8! =       40320        \n",
      "9! =       362880       \n",
      "10! =      3628800       \n",
      "11! =      39916800      \n",
      "12! =     479001600      \n",
      "13! =     6227020800     \n",
      "14! =    87178291200     \n",
      "15! =   1307674368000    \n",
      "16! =   20922789888000   \n",
      "17! =  355687428096000   \n",
      "18! =  6402373705728000  \n",
      "19! = 121645100408832000 \n",
      "20! =2432902008176640000 \n"
     ]
    }
   ],
   "source": [
    "def factorial(n) :\n",
    "    s = 1\n",
    "    for i in range(n + 1) :\n",
    "        if i == 0:\n",
    "            s = 1\n",
    "        else :\n",
    "            s *= i\n",
    "        print(f\"{i}! ={s:^20}\")\n",
    "\n",
    "n = int(input())\n",
    "factorial(n)"
   ]
  },
  {
   "attachments": {},
   "cell_type": "markdown",
   "id": "59735dd1",
   "metadata": {},
   "source": [
    "# 02_18"
   ]
  },
  {
   "cell_type": "code",
   "execution_count": 5,
   "id": "0df33be6",
   "metadata": {},
   "outputs": [
    {
     "name": "stdout",
     "output_type": "stream",
     "text": [
      "A\n",
      "A B\n",
      "A B C\n",
      "A B C D\n",
      "A B C D E\n",
      "A B C D E F\n",
      "A B C D E F G\n",
      "A B C D E F G H\n",
      "A B C D E F G H I\n",
      "A B C D E F G H I J\n",
      "A B C D E F G H I J K\n",
      "A B C D E F G H I J K L\n",
      "A B C D E F G H I J K L M\n",
      "A B C D E F G H I J K L M N\n",
      "A B C D E F G H I J K L M N O\n",
      "A B C D E F G H I J K L M N O P\n",
      "A B C D E F G H I J K L M N O P Q\n",
      "A B C D E F G H I J K L M N O P Q R\n",
      "A B C D E F G H I J K L M N O P Q R S\n",
      "A B C D E F G H I J K L M N O P Q R S T\n",
      "A B C D E F G H I J K L M N O P Q R S T U\n",
      "A B C D E F G H I J K L M N O P Q R S T U V\n",
      "A B C D E F G H I J K L M N O P Q R S T U V W\n",
      "A B C D E F G H I J K L M N O P Q R S T U V W X\n",
      "A B C D E F G H I J K L M N O P Q R S T U V W X Y\n",
      "A B C D E F G H I J K L M N O P Q R S T U V W X Y Z\n"
     ]
    }
   ],
   "source": [
    "for char in range(ord('A'), ord('Z')+1):\n",
    "    print(' '.join([chr(c) for c in range(ord('A'), char+1)]))\n"
   ]
  },
  {
   "attachments": {},
   "cell_type": "markdown",
   "id": "6a63498b",
   "metadata": {},
   "source": [
    "# 02_19"
   ]
  },
  {
   "cell_type": "code",
   "execution_count": null,
   "id": "7abdf086",
   "metadata": {},
   "outputs": [],
   "source": []
  },
  {
   "attachments": {},
   "cell_type": "markdown",
   "id": "b7db5255",
   "metadata": {},
   "source": [
    "# 02_20"
   ]
  },
  {
   "cell_type": "code",
   "execution_count": null,
   "id": "581e09ad",
   "metadata": {},
   "outputs": [],
   "source": []
  },
  {
   "attachments": {},
   "cell_type": "markdown",
   "id": "e6e00057",
   "metadata": {},
   "source": [
    "# 02_21"
   ]
  },
  {
   "cell_type": "code",
   "execution_count": null,
   "id": "b8550e0a",
   "metadata": {},
   "outputs": [],
   "source": []
  },
  {
   "attachments": {},
   "cell_type": "markdown",
   "id": "729fbc0e",
   "metadata": {},
   "source": [
    "# 02_22"
   ]
  },
  {
   "cell_type": "code",
   "execution_count": null,
   "id": "9567910a",
   "metadata": {},
   "outputs": [],
   "source": []
  },
  {
   "attachments": {},
   "cell_type": "markdown",
   "id": "a81b2c1b",
   "metadata": {},
   "source": [
    "# 02_23"
   ]
  },
  {
   "cell_type": "code",
   "execution_count": null,
   "id": "cb776ac5",
   "metadata": {},
   "outputs": [],
   "source": [
    "n = int(input())\n",
    "count = 0\n",
    "\n",
    "for a in range(1, n):\n",
    "    for b in range(a, n):\n",
    "        c = n - a - b\n",
    "        if c < b:\n",
    "            break\n",
    "        if a + b > c:\n",
    "            count += 1\n",
    "\n",
    "print(f\"Number of triangles that can be created: {count}\")"
   ]
  },
  {
   "attachments": {},
   "cell_type": "markdown",
   "id": "eb9039f8",
   "metadata": {},
   "source": [
    "# 02_24"
   ]
  },
  {
   "cell_type": "code",
   "execution_count": null,
   "id": "4b8a312e",
   "metadata": {},
   "outputs": [],
   "source": []
  },
  {
   "attachments": {},
   "cell_type": "markdown",
   "id": "d51bce67",
   "metadata": {},
   "source": [
    "# 02_25"
   ]
  },
  {
   "cell_type": "code",
   "execution_count": null,
   "id": "e5ba2c0a",
   "metadata": {},
   "outputs": [],
   "source": []
  },
  {
   "attachments": {},
   "cell_type": "markdown",
   "id": "dfe2472b",
   "metadata": {},
   "source": [
    "# 02_26"
   ]
  },
  {
   "cell_type": "code",
   "execution_count": null,
   "id": "0ca664fe",
   "metadata": {},
   "outputs": [],
   "source": []
  }
 ],
 "metadata": {
  "kernelspec": {
   "display_name": "Python 3 (ipykernel)",
   "language": "python",
   "name": "python3"
  },
  "language_info": {
   "codemirror_mode": {
    "name": "ipython",
    "version": 3
   },
   "file_extension": ".py",
   "mimetype": "text/x-python",
   "name": "python",
   "nbconvert_exporter": "python",
   "pygments_lexer": "ipython3",
   "version": "3.11.3"
  }
 },
 "nbformat": 4,
 "nbformat_minor": 5
}
