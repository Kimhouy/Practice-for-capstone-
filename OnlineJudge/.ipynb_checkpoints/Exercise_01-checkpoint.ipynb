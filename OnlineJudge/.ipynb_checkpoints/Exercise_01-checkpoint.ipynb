{
 "cells": [
  {
   "cell_type": "markdown",
   "id": "92fb9ff8",
   "metadata": {},
   "source": [
    "# 01-01"
   ]
  },
  {
   "cell_type": "code",
   "execution_count": 13,
   "id": "71075cef",
   "metadata": {},
   "outputs": [
    {
     "name": "stdout",
     "output_type": "stream",
     "text": [
      "Enter N,M : 1 100\n",
      "Sum from 1 to 100 : 5050\n"
     ]
    }
   ],
   "source": [
    "def sumNum (N,M) :\n",
    "    s = 0\n",
    "    for i in range(N,M+1) :\n",
    "        s += i\n",
    "    return s\n",
    "\n",
    "N,M = map(int, input(\"Enter N,M : \").split())\n",
    "\n",
    "print(f\"Sum from {N} to {M} : {sumNum(N,M)}\")\n",
    "        \n",
    "        \n",
    "        "
   ]
  },
  {
   "cell_type": "code",
   "execution_count": 14,
   "id": "10f134ed",
   "metadata": {},
   "outputs": [
    {
     "name": "stdout",
     "output_type": "stream",
     "text": [
      "Enter N,M : 1 100\n",
      "Sum from 1 to 100 : 5050\n"
     ]
    }
   ],
   "source": [
    "def sumNum (N,M) :\n",
    "    s = (M * (M + 1) // 2) - ((N - 1) * N // 2)\n",
    "    return s\n",
    "\n",
    "N,M = map(int, input(\"Enter N,M : \").split())\n",
    "\n",
    "print(f\"Sum from {N} to {M} : {sumNum(N,M)}\")"
   ]
  },
  {
   "cell_type": "code",
   "execution_count": 55,
   "id": "00080973",
   "metadata": {},
   "outputs": [
    {
     "name": "stdout",
     "output_type": "stream",
     "text": [
      "1 100\n",
      "5050\n"
     ]
    }
   ],
   "source": [
    "def sumNum (N,M) :\n",
    "    s = (( M - N +1 ) * ( N + M )) // 2\n",
    "    return s \n",
    "\n",
    "N,M = map(int, input().split())\n",
    "print(sumNum(N,M))"
   ]
  },
  {
   "cell_type": "markdown",
   "id": "8be4ab59",
   "metadata": {},
   "source": [
    "# 01-02"
   ]
  },
  {
   "cell_type": "code",
   "execution_count": 46,
   "id": "ab578eb1",
   "metadata": {},
   "outputs": [
    {
     "name": "stdout",
     "output_type": "stream",
     "text": [
      "1987 123 4567 89\n",
      "141 16\n"
     ]
    }
   ],
   "source": [
    "import random as rd\n",
    "\n",
    "def FindMin (SEED,MIN,MAX,N) :\n",
    "    rd.seed(SEED)\n",
    "    lst = rd.sample(range(MIN,MAX),N)\n",
    "    smallest = min(lst)\n",
    "    \n",
    "    return smallest,lst.index(smallest)\n",
    "\n",
    "SEED,MIN,MAX,N = map(int,input().split())\n",
    "smallest,smallest_index = FindMin(SEED,MIN,MAX,N)\n",
    "print(smallest,smallest_index)"
   ]
  },
  {
   "cell_type": "markdown",
   "id": "56449cfa",
   "metadata": {},
   "source": [
    "# 01-03"
   ]
  },
  {
   "cell_type": "code",
   "execution_count": 67,
   "id": "6d6d5ca7",
   "metadata": {},
   "outputs": [
    {
     "name": "stdout",
     "output_type": "stream",
     "text": [
      "1234567890\n",
      "3211610688\n"
     ]
    }
   ],
   "source": [
    "def sumDivisor(N) :\n",
    "    s = 0\n",
    "    sqrt = int(N ** 0.5)\n",
    "    \n",
    "    for i in range (1, sqrt+ 1):\n",
    "        if N % i == 0:\n",
    "            s += i\n",
    "            s += N // i\n",
    "            \n",
    "    return s \n",
    "\n",
    "N = int(input())\n",
    "print(sumDivisor(N))"
   ]
  },
  {
   "cell_type": "markdown",
   "id": "da5d2b35",
   "metadata": {},
   "source": [
    "# 01-04"
   ]
  },
  {
   "cell_type": "code",
   "execution_count": 9,
   "id": "49b5d49b",
   "metadata": {},
   "outputs": [
    {
     "name": "stdout",
     "output_type": "stream",
     "text": [
      "2147483647 4294967295\n",
      "4294967291 4294967279 4294967231 4294967197 4294967189\n"
     ]
    }
   ],
   "source": [
    "def Is_prime(N):\n",
    "    if N <= 1:\n",
    "        return False\n",
    "    sqrtn = int(N ** 0.5)\n",
    "    \n",
    "    for i in range(2, sqrtn + 1):\n",
    "        if N % i == 0:\n",
    "            return False\n",
    "    return True\n",
    "\n",
    "\n",
    "def findPrimeNum(N, M):\n",
    "    prime = []\n",
    "    for i in range(M,N -1, -1):\n",
    "        if Is_prime(i):\n",
    "            prime.append(i)\n",
    "        if len(prime) == 5:\n",
    "            break\n",
    "    return prime\n",
    "N, M = map(int, input().split())\n",
    "print(*findPrimeNum(N,M))"
   ]
  },
  {
   "cell_type": "markdown",
   "id": "45ebedf3",
   "metadata": {},
   "source": [
    "# 01-05"
   ]
  },
  {
   "cell_type": "code",
   "execution_count": 45,
   "id": "0075c709",
   "metadata": {},
   "outputs": [
    {
     "name": "stdout",
     "output_type": "stream",
     "text": [
      "5\n",
      "1 \n",
      "3 5 \n",
      "7 9 11 \n",
      "13 15 17 19 \n",
      "21 23 25 27 29 \n",
      "225\n"
     ]
    }
   ],
   "source": [
    "n = int(input())\n",
    "s = 1\n",
    "a = 0\n",
    "for row in range(1,n +1) :\n",
    "    for i in range(1,row + 1) : \n",
    "        print(s,end=\" \")\n",
    "        a += s\n",
    "        s += 2\n",
    "    print()\n",
    "print(a)"
   ]
  },
  {
   "cell_type": "code",
   "execution_count": 44,
   "id": "3268967b",
   "metadata": {},
   "outputs": [
    {
     "name": "stdout",
     "output_type": "stream",
     "text": [
      "5\n",
      "185\n"
     ]
    }
   ],
   "source": [
    "n = int(input())\n",
    "s = 1\n",
    "a = 0\n",
    "\n",
    "# Calculate the sum directly without using the inner loop\n",
    "for row in range(1, n + 1):\n",
    "    a += s * row  # Each row has 'row' odd numbers starting from 's'\n",
    "    s += 2 * row  # Update 's' to the starting odd number of the next row\n",
    "\n",
    "print(a)\n"
   ]
  },
  {
   "cell_type": "code",
   "execution_count": 37,
   "id": "738a5bcd",
   "metadata": {},
   "outputs": [
    {
     "name": "stdout",
     "output_type": "stream",
     "text": [
      "Sum of odd numbers in the pyramid: 1524155677489\n"
     ]
    }
   ],
   "source": [
    "def sum_odd_pyramid(N):\n",
    "    odd_sum = N ** 2\n",
    "    return odd_sum\n",
    "\n",
    "# Specify the height as one million (1,000,000)\n",
    "N = 1234567\n",
    "\n",
    "# Calculate and print the sum of odd numbers in the pyramid\n",
    "result = sum_odd_pyramid(N)\n",
    "print(\"Sum of odd numbers in the pyramid:\", result)\n"
   ]
  },
  {
   "cell_type": "markdown",
   "id": "27767fee",
   "metadata": {},
   "source": [
    "# 01-06"
   ]
  },
  {
   "cell_type": "code",
   "execution_count": 60,
   "id": "121688e8",
   "metadata": {},
   "outputs": [
    {
     "name": "stdout",
     "output_type": "stream",
     "text": [
      "20\n",
      "42\n"
     ]
    }
   ],
   "source": [
    "def findDivisors(n) :\n",
    "    s = 0\n",
    "    for i in range(1, n + 1) :\n",
    "        if n % i == 0 :\n",
    "            s += i\n",
    "    return s\n",
    "            \n",
    "            \n",
    "n = int(input())\n",
    "print(findDivisors(n))"
   ]
  },
  {
   "cell_type": "markdown",
   "id": "f07196bc",
   "metadata": {},
   "source": [
    "# 01-07"
   ]
  },
  {
   "cell_type": "code",
   "execution_count": 72,
   "id": "62afa62a",
   "metadata": {
    "scrolled": true
   },
   "outputs": [
    {
     "name": "stdout",
     "output_type": "stream",
     "text": [
      "1 1000 3\n",
      "76127\n",
      "5\n"
     ]
    }
   ],
   "source": [
    "def Is_prime(N):\n",
    "    if N <= 1:\n",
    "        return False\n",
    "    \n",
    "    for i in range(2, int(N ** 0.5) + 1):\n",
    "        if N % i == 0:\n",
    "            return False\n",
    "    return True\n",
    "\n",
    "def findPrimeNum(N,M,K):\n",
    "    prime = []\n",
    "    for i in range(N,M + 1):\n",
    "        if Is_prime(i):\n",
    "            prime.append(i)\n",
    "            \n",
    "    if len(prime) < K:\n",
    "        return -1, -1\n",
    "    \n",
    "    sumPrime = sum(prime)\n",
    "    K_prime = prime[K - 1]\n",
    "  \n",
    "    return sumPrime,K_prime\n",
    "\n",
    "N, M,K = map(int, input().split())\n",
    "sumPrime,K_prime = findPrimeNum(N,M,K)\n",
    "\n",
    "print(sumPrime)\n",
    "print(K_prime)\n"
   ]
  },
  {
   "cell_type": "markdown",
   "id": "6e73574f",
   "metadata": {},
   "source": [
    "# 01-08"
   ]
  },
  {
   "cell_type": "code",
   "execution_count": 94,
   "id": "0c7cf4f1",
   "metadata": {},
   "outputs": [
    {
     "name": "stdout",
     "output_type": "stream",
     "text": [
      "10\n",
      "3 5\n",
      "5 7\n",
      "2\n"
     ]
    }
   ],
   "source": [
    "def Is_prime(N):\n",
    "    if N <= 1:\n",
    "        return False\n",
    "    \n",
    "    for i in range(2, int(N ** 0.5) + 1):\n",
    "        if N % i == 0:\n",
    "            return False\n",
    "    return True\n",
    "\n",
    "def findPrimeNum(N):\n",
    "    count = 0\n",
    "    for i in range(2,n+1):\n",
    "        if Is_prime(i) and Is_prime(i + 2):\n",
    "            print(i,i +2)\n",
    "            count += 1\n",
    "    return count\n",
    "\n",
    "n = int(input())\n",
    "print(findPrimeNum(n))"
   ]
  },
  {
   "cell_type": "markdown",
   "id": "51637d6f",
   "metadata": {},
   "source": [
    "# 01-09"
   ]
  },
  {
   "cell_type": "code",
   "execution_count": 98,
   "id": "2f802092",
   "metadata": {},
   "outputs": [
    {
     "name": "stdout",
     "output_type": "stream",
     "text": [
      "Enter a limit for generating Mersenne prime numbers: 10\n",
      "Mersenne prime numbers within the limit:\n",
      "[3, 7, 31, 127]\n"
     ]
    }
   ],
   "source": [
    "def is_prime(num):\n",
    "    if num <= 1:\n",
    "        return False\n",
    "    if num == 2:\n",
    "        return True\n",
    "    if num % 2 == 0:\n",
    "        return False\n",
    "    for i in range(3, int(num**0.5) + 1, 2):\n",
    "        if num % i == 0:\n",
    "            return False\n",
    "    return True\n",
    "\n",
    "def generate_mersenne_numbers(limit):\n",
    "    mersenne_primes = []\n",
    "    for p in range(2, limit + 1):\n",
    "        m = 2**p - 1\n",
    "        if is_prime(p) and is_prime(m):\n",
    "            mersenne_primes.append(m)\n",
    "    return mersenne_primes\n",
    "\n",
    "limit = int(input(\"Enter a limit for generating Mersenne prime numbers: \"))\n",
    "mersenne_prime_numbers = generate_mersenne_numbers(limit)\n",
    "print(\"Mersenne prime numbers within the limit:\")\n",
    "print(mersenne_prime_numbers)\n"
   ]
  },
  {
   "cell_type": "code",
   "execution_count": null,
   "id": "7cf49ef4",
   "metadata": {},
   "outputs": [],
   "source": []
  },
  {
   "cell_type": "code",
   "execution_count": null,
   "id": "b719e9b2",
   "metadata": {},
   "outputs": [],
   "source": []
  },
  {
   "cell_type": "code",
   "execution_count": null,
   "id": "b66d117f",
   "metadata": {},
   "outputs": [],
   "source": []
  },
  {
   "cell_type": "code",
   "execution_count": null,
   "id": "64ac9fb1",
   "metadata": {},
   "outputs": [],
   "source": []
  }
 ],
 "metadata": {
  "kernelspec": {
   "display_name": "Python 3 (ipykernel)",
   "language": "python",
   "name": "python3"
  },
  "language_info": {
   "codemirror_mode": {
    "name": "ipython",
    "version": 3
   },
   "file_extension": ".py",
   "mimetype": "text/x-python",
   "name": "python",
   "nbconvert_exporter": "python",
   "pygments_lexer": "ipython3",
   "version": "3.11.3"
  }
 },
 "nbformat": 4,
 "nbformat_minor": 5
}
